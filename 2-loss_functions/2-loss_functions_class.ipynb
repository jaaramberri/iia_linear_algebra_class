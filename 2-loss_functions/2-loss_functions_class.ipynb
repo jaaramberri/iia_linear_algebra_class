{
 "cells": [
  {
   "cell_type": "markdown",
   "id": "e3c2eaca-90a1-4fce-bbb3-6bec8db87d4c",
   "metadata": {},
   "source": [
    "**DATA SPLITING**\n",
    "\n",
    "We will not train any model here, but we will follow the standard AI nomenclature to get used to it.\n",
    "\n",
    "**Why Do We Split Data in AI Problems?**\n",
    "\n",
    "In machine learning and artificial intelligence, we divide data into different sets to ensure our model **learns effectively** and **generalizes well** to new data. The most common splits are:\n",
    "\n",
    "- **Training Data**: This is the largest portion of the dataset, used to train the model. The model learns patterns and relationships from this data.\n",
    "- **Testing Data**: A separate portion of the dataset, **not** used during training. This data is used to evaluate the model’s performance on unseen data, helping to check for overfitting.\n",
    "- **Validation Data (Optional)**: Sometimes, we use a third dataset to fine-tune hyperparameters and improve model performance before final testing.\n",
    "\n",
    "A common split is **80% training, 20% testing**, or **70% training, 15% validation, 15% testing**, depending on the problem.\n",
    "\n",
    "---"
   ]
  },
  {
   "cell_type": "markdown",
   "id": "42fb6394-8ea2-41c3-8048-b5947524c4c6",
   "metadata": {},
   "source": [
    "## Investigating the Relationship Between Energy Consumption and Building Floors\n",
    "\n",
    "**Scenario**\n",
    "\n",
    "The objective is to examine whether a city's energy consumption increases with the average number of floors in its buildings. To explore this relationship, we will use a dataset obtained from Kaggle.  \n",
    "\n",
    "Although the dataset lacks details regarding its source or collection process, it is straightforward and relevant for analysis. The dataset contains only two variables: the average number of floors in buildings and the corresponding energy consumption.  \n"
   ]
  },
  {
   "cell_type": "markdown",
   "id": "5408fac9-4c4d-42b0-aaa5-4b4f51296848",
   "metadata": {},
   "source": [
    "Import everything we need:"
   ]
  },
  {
   "cell_type": "code",
   "execution_count": 1,
   "id": "6a04db6b-e592-4cc6-b9a6-652b9ac62ee3",
   "metadata": {},
   "outputs": [],
   "source": [
    "import numpy as np\n",
    "import pandas as pd\n",
    "import matplotlib.pyplot as plt\n",
    "import seaborn as sns\n",
    "import numpy as np"
   ]
  },
  {
   "cell_type": "markdown",
   "id": "e81ff0d3-5452-4232-a721-89451442aae4",
   "metadata": {},
   "source": [
    "# Data Management"
   ]
  },
  {
   "cell_type": "markdown",
   "id": "52a0e85a-f171-489b-a091-dfaacb9cca3a",
   "metadata": {},
   "source": [
    "## Load and Visualize Data\n",
    "\n",
    "Use the method `read_csv`to load the information of the file 2-buildings_energy_consuption.csv"
   ]
  },
  {
   "cell_type": "code",
   "execution_count": 2,
   "id": "d00817dd-5889-4d89-9091-8776dbb9f798",
   "metadata": {},
   "outputs": [],
   "source": [
    "data=pd.read_csv('2-buildings_energy_consuption.csv')"
   ]
  },
  {
   "cell_type": "markdown",
   "id": "d6ee2f84-529a-4555-96c3-19832238b6be",
   "metadata": {},
   "source": [
    "To get a quick glimpse of the dataset, we can use Pandas' `head()` function to display the first few rows.  \n"
   ]
  },
  {
   "cell_type": "code",
   "execution_count": 3,
   "id": "b56c8667-dc1d-4052-8682-9067af0ed91b",
   "metadata": {},
   "outputs": [
    {
     "data": {
      "text/html": [
       "<div>\n",
       "<style scoped>\n",
       "    .dataframe tbody tr th:only-of-type {\n",
       "        vertical-align: middle;\n",
       "    }\n",
       "\n",
       "    .dataframe tbody tr th {\n",
       "        vertical-align: top;\n",
       "    }\n",
       "\n",
       "    .dataframe thead th {\n",
       "        text-align: right;\n",
       "    }\n",
       "</style>\n",
       "<table border=\"1\" class=\"dataframe\">\n",
       "  <thead>\n",
       "    <tr style=\"text-align: right;\">\n",
       "      <th></th>\n",
       "      <th>NumberFloors</th>\n",
       "      <th>EnergyConsuption</th>\n",
       "    </tr>\n",
       "  </thead>\n",
       "  <tbody>\n",
       "    <tr>\n",
       "      <th>0</th>\n",
       "      <td>1.1</td>\n",
       "      <td>39343.0</td>\n",
       "    </tr>\n",
       "    <tr>\n",
       "      <th>1</th>\n",
       "      <td>1.3</td>\n",
       "      <td>46205.0</td>\n",
       "    </tr>\n",
       "    <tr>\n",
       "      <th>2</th>\n",
       "      <td>1.5</td>\n",
       "      <td>37731.0</td>\n",
       "    </tr>\n",
       "    <tr>\n",
       "      <th>3</th>\n",
       "      <td>2.0</td>\n",
       "      <td>43525.0</td>\n",
       "    </tr>\n",
       "    <tr>\n",
       "      <th>4</th>\n",
       "      <td>2.2</td>\n",
       "      <td>39891.0</td>\n",
       "    </tr>\n",
       "  </tbody>\n",
       "</table>\n",
       "</div>"
      ],
      "text/plain": [
       "   NumberFloors  EnergyConsuption\n",
       "0           1.1           39343.0\n",
       "1           1.3           46205.0\n",
       "2           1.5           37731.0\n",
       "3           2.0           43525.0\n",
       "4           2.2           39891.0"
      ]
     },
     "execution_count": 3,
     "metadata": {},
     "output_type": "execute_result"
    }
   ],
   "source": [
    "data.head()"
   ]
  },
  {
   "cell_type": "markdown",
   "id": "dcd3293e-bf39-4840-b3ba-83f6ab661144",
   "metadata": {},
   "source": [
    "Next, we can use the `info()` method to get a concise summary of the DataFrame. This summary reveals that the dataset contains **30 records**, has **no missing values**, and both variables are stored as **float data types**.  \n"
   ]
  },
  {
   "cell_type": "code",
   "execution_count": 4,
   "id": "960a8549-262a-4944-8214-98a67b7e2a8b",
   "metadata": {},
   "outputs": [
    {
     "name": "stdout",
     "output_type": "stream",
     "text": [
      "<class 'pandas.core.frame.DataFrame'>\n",
      "RangeIndex: 30 entries, 0 to 29\n",
      "Data columns (total 2 columns):\n",
      " #   Column            Non-Null Count  Dtype  \n",
      "---  ------            --------------  -----  \n",
      " 0   NumberFloors      30 non-null     float64\n",
      " 1   EnergyConsuption  30 non-null     float64\n",
      "dtypes: float64(2)\n",
      "memory usage: 612.0 bytes\n"
     ]
    }
   ],
   "source": [
    "data.info()"
   ]
  },
  {
   "cell_type": "markdown",
   "id": "3d4acb66-6a2f-46c6-9608-9a91fa376d9a",
   "metadata": {},
   "source": [
    "Now, let's explore the dataset's statistical properties using the `describe()` function. This provides a summary of key metrics, including central tendency, dispersion, and distribution characteristics.  \n"
   ]
  },
  {
   "cell_type": "code",
   "execution_count": 5,
   "id": "3a05e104-4287-49a5-96b6-2881b5b00742",
   "metadata": {},
   "outputs": [
    {
     "data": {
      "text/html": [
       "<div>\n",
       "<style scoped>\n",
       "    .dataframe tbody tr th:only-of-type {\n",
       "        vertical-align: middle;\n",
       "    }\n",
       "\n",
       "    .dataframe tbody tr th {\n",
       "        vertical-align: top;\n",
       "    }\n",
       "\n",
       "    .dataframe thead th {\n",
       "        text-align: right;\n",
       "    }\n",
       "</style>\n",
       "<table border=\"1\" class=\"dataframe\">\n",
       "  <thead>\n",
       "    <tr style=\"text-align: right;\">\n",
       "      <th></th>\n",
       "      <th>NumberFloors</th>\n",
       "      <th>EnergyConsuption</th>\n",
       "    </tr>\n",
       "  </thead>\n",
       "  <tbody>\n",
       "    <tr>\n",
       "      <th>count</th>\n",
       "      <td>30.000000</td>\n",
       "      <td>30.000000</td>\n",
       "    </tr>\n",
       "    <tr>\n",
       "      <th>mean</th>\n",
       "      <td>5.313333</td>\n",
       "      <td>76003.000000</td>\n",
       "    </tr>\n",
       "    <tr>\n",
       "      <th>std</th>\n",
       "      <td>2.837888</td>\n",
       "      <td>27414.429785</td>\n",
       "    </tr>\n",
       "    <tr>\n",
       "      <th>min</th>\n",
       "      <td>1.100000</td>\n",
       "      <td>37731.000000</td>\n",
       "    </tr>\n",
       "    <tr>\n",
       "      <th>25%</th>\n",
       "      <td>3.200000</td>\n",
       "      <td>56720.750000</td>\n",
       "    </tr>\n",
       "    <tr>\n",
       "      <th>50%</th>\n",
       "      <td>4.700000</td>\n",
       "      <td>65237.000000</td>\n",
       "    </tr>\n",
       "    <tr>\n",
       "      <th>75%</th>\n",
       "      <td>7.700000</td>\n",
       "      <td>100544.750000</td>\n",
       "    </tr>\n",
       "    <tr>\n",
       "      <th>max</th>\n",
       "      <td>10.500000</td>\n",
       "      <td>122391.000000</td>\n",
       "    </tr>\n",
       "  </tbody>\n",
       "</table>\n",
       "</div>"
      ],
      "text/plain": [
       "       NumberFloors  EnergyConsuption\n",
       "count     30.000000         30.000000\n",
       "mean       5.313333      76003.000000\n",
       "std        2.837888      27414.429785\n",
       "min        1.100000      37731.000000\n",
       "25%        3.200000      56720.750000\n",
       "50%        4.700000      65237.000000\n",
       "75%        7.700000     100544.750000\n",
       "max       10.500000     122391.000000"
      ]
     },
     "execution_count": 5,
     "metadata": {},
     "output_type": "execute_result"
    }
   ],
   "source": [
    "data.describe()"
   ]
  },
  {
   "cell_type": "markdown",
   "id": "bf2a95f7-bede-4d76-89d2-6ed8a4739f67",
   "metadata": {},
   "source": [
    "From the dataset, we can observe that the surveyed households have an average of **5.31 floors**, with an **average energy consumption of 76,003 kWh** per year. Additionally, **75% of the households consume more than 56,720 kWh** annually. This suggests that even with a moderate number of floors, energy consumption remains relatively high.  \n",
    "\n",
    "Before fitting a linear regression model, we need to examine the relationship between these two variables. Let’s visualize **Number of Floors** against **Energy Consumption of Houses (kWh)** to identify any trends with a **scattered plot**:  "
   ]
  },
  {
   "cell_type": "code",
   "execution_count": 6,
   "id": "e055af58-20c6-4ec2-a74c-cca428dc456d",
   "metadata": {},
   "outputs": [
    {
     "data": {
      "text/plain": [
       "<matplotlib.collections.PathCollection at 0x7f74073d46b0>"
      ]
     },
     "execution_count": 6,
     "metadata": {},
     "output_type": "execute_result"
    },
    {
     "data": {
      "image/png": "[encoded data removed]",
      "text/plain": [
       "<Figure size 640x480 with 1 Axes>"
      ]
     },
     "metadata": {},
     "output_type": "display_data"
    }
   ],
   "source": [
    "plt.scatter('NumberFloors','EnergyConsuption',data=data)"
   ]
  },
  {
   "cell_type": "markdown",
   "id": "d60306f2-6d32-4afb-a384-1774e6ad616c",
   "metadata": {},
   "source": [
    "From the visualization, there appears to be a correlation between the **number of floors** and **energy consumption**. The trend suggests that as the number of floors increases, energy consumption also rises, following a roughly linear pattern.  \n",
    "\n",
    "To confirm this relationship, we can calculate the **Pearson correlation coefficient** using NumPy’s `corrcoef()` function. Print the result:\n"
   ]
  },
  {
   "cell_type": "code",
   "execution_count": 7,
   "id": "22797367-a8f6-4ab9-a33a-5ddae4f7c952",
   "metadata": {},
   "outputs": [
    {
     "name": "stdout",
     "output_type": "stream",
     "text": [
      "[[1.         0.97824162]\n",
      " [0.97824162 1.        ]]\n"
     ]
    }
   ],
   "source": [
    "pears_corr_coef = np.corrcoef(data.NumberFloors, data.EnergyConsuption)\n",
    "print(pears_corr_coef)"
   ]
  },
  {
   "cell_type": "markdown",
   "id": "6e0dcf0b-0dd5-439a-88b9-adcbb7a6ad0c",
   "metadata": {},
   "source": [
    "The two variables show a strong positive correlation. However, remember: **correlation does not necessarily imply causation**."
   ]
  },
  {
   "cell_type": "markdown",
   "id": "a48d3793-fc62-483b-95f5-51096490ee96",
   "metadata": {},
   "source": [
    "## Split Data\n",
    "\n",
    "We will not train any model here, but we will follow the standard AI nomenclature to get used to it.\n",
    "\n",
    "**Why Do We Split Data in AI Problems?**\n",
    "\n",
    "In machine learning and artificial intelligence, we divide data into different sets to ensure our model **learns effectively** and **generalizes well** to new data. The most common splits are:\n",
    "\n",
    "- **Training Data**: This is the largest portion of the dataset, used to train the model. The model learns patterns and relationships from this data.\n",
    "- **Testing Data**: A separate portion of the dataset, **not** used during training. This data is used to evaluate the model’s performance on unseen data, helping to check for overfitting.\n",
    "- **Validation Data (Optional)**: Sometimes, we use a third dataset to fine-tune hyperparameters and improve model performance before final testing.\n",
    "\n",
    "A common split is **80% training, 20% testing**, or **70% training, 15% validation, 15% testing**, depending on the problem.\n",
    "\n",
    "---"
   ]
  },
  {
   "cell_type": "markdown",
   "id": "9b8cdc22-39a4-48b8-889e-0e0161c743c7",
   "metadata": {},
   "source": [
    "Divide the dataset into two variables: **X (Number of Floors)** as the independent variable and **Y (Energy Consumption of Houses #)**."
   ]
  },
  {
   "cell_type": "code",
   "execution_count": 8,
   "id": "60150817-37d1-4b3c-857b-07e282f8919f",
   "metadata": {},
   "outputs": [],
   "source": [
    "# Split the data in two variables\n",
    "X = data['NumberFloors']\n",
    "Y = data['EnergyConsuption']"
   ]
  },
  {
   "cell_type": "markdown",
   "id": "1e0b3853-4d3d-4d54-b559-89b6a248a1e6",
   "metadata": {},
   "source": [
    "Split the data into training (80%) and testing (20%) sets using the `sample` and `drop` methods. Scikit-Learn offers the `train_test_split` method for this task.\n",
    "\n",
    "```python\n",
    "### Sintaxis:\n",
    "\n",
    "df.sample(frac=proportion, random_state=seed)\n",
    "\n",
    "### Explanation:\n",
    "\n",
    "sample(frac=0.8) # Randomly selects 80% of the data from the array.  \n",
    "random_state=200 # Sets a fixed random seed to ensure reproducibility.  \n",
    "\n",
    "\n",
    "### Example: Given xvariable:\n",
    "\n",
    "x_train = xvariable.sample(frac=0.8, random_state=200) # Randomly selects **80%** of the rows from xvariable.  \n",
    "x_test  = xvariable.drop(x_train.index) # → Removes the training set rows from X, creating the test set.  \n",
    "\n",
    "\n"
   ]
  },
  {
   "cell_type": "code",
   "execution_count": 9,
   "id": "15959ea9-53b3-44d2-93be-22ca21cd9c1e",
   "metadata": {},
   "outputs": [],
   "source": [
    "# Split into a training (80%) and testing (20%) sets\n",
    "\n",
    "X_train = X.sample(frac=0.8,random_state=200)\n",
    "X_test  = X.drop(X_train.index)\n",
    "Y_train = Y.sample(frac=0.8,random_state=200)\n",
    "Y_test  = Y.drop(Y_train.index)"
   ]
  },
  {
   "cell_type": "markdown",
   "id": "1fe44a46-c934-437c-ab26-10fc08afc6ef",
   "metadata": {},
   "source": [
    "Convert DataFrames to Numpy arrays. Use `to_numpy()` method."
   ]
  },
  {
   "cell_type": "code",
   "execution_count": 10,
   "id": "23bdbda1-7ace-4093-b125-c7b9f6a8f9e0",
   "metadata": {},
   "outputs": [],
   "source": [
    "X_train = X_train.to_numpy()\n",
    "X_test  = X_test.to_numpy()\n",
    "Y_train = Y_train.to_numpy()\n",
    "Y_test  = Y_test.to_numpy()"
   ]
  },
  {
   "cell_type": "markdown",
   "id": "13258777-2040-4a97-ac46-73f2c12771b7",
   "metadata": {},
   "source": [
    "Visualize a scatter plot of the two sets. Use `subplot`. \n",
    "\n",
    "**Hint**, use this order:\n",
    "\n",
    "```python\n",
    "# Training set\n",
    "plt.figure \n",
    "plt.subplot \n",
    "plt.scatter \n",
    "plt.title \n",
    "\n",
    "# Testing set\n",
    "plt.subplot \n",
    "plt.scatter \n",
    "plt.title \n",
    "plt.show()"
   ]
  },
  {
   "cell_type": "code",
   "execution_count": 11,
   "id": "ef8f8151-09d9-4b6c-b83b-f84ba20e73f1",
   "metadata": {},
   "outputs": [
    {
     "data": {
      "image/png": "[encoded data removed]",
      "text/plain": [
       "<Figure size 1600x500 with 2 Axes>"
      ]
     },
     "metadata": {},
     "output_type": "display_data"
    }
   ],
   "source": [
    "# Training set\n",
    "plt.figure(figsize=(16,5))\n",
    "plt.subplot(1,2,1)\n",
    "plt.scatter(x=X_train, y=Y_train)\n",
    "plt.title('Training Set')\n",
    "\n",
    "# Testing set\n",
    "plt.subplot(1,2,2)\n",
    "plt.scatter(x=X_test, y=Y_test)\n",
    "plt.title('Testing Set')\n",
    "plt.show()"
   ]
  },
  {
   "cell_type": "markdown",
   "id": "26680017-19b7-4c50-817d-bfeed44b8378",
   "metadata": {},
   "source": [
    "# Train the Linear Regression Model  \n",
    "\n",
    "(we are not training anything since this problem has analytical solution)\n",
    "\n",
    "\n",
    "Manually implement linear regression instead of using Scikit-Learn. We use the term \"train\" to follow the AI nomenclature, but this problem has an analytical solution.\n",
    "\n",
    "Remember:\n",
    "\n",
    "- $x^{(i)} \\in \\mathbb{R}$,  $i$-th input value. $\\bigg[x^{(1)} \\quad  \\cdots \\quad  x^{(m)}  \\bigg]$.\n",
    "- $y^{(i)} \\in \\mathbb{R}$, $i$-th output value. $\\bigg[y^{(1)} \\quad  \\cdots \\quad  y^{(m)}  \\bigg]$.\n",
    "\n",
    "\n",
    "- $\\hat{y}^{(i)} = w x^{(i)} + b$: Predicted value for input $x^{(i)}$.\n",
    " \n",
    "- $m$: Number of training examples.\n",
    "\n",
    "\n",
    "If we define the Loss Function to be the Mean Squared Error:\n",
    "\\begin{equation}\n",
    "    MSE = \\frac{1}{m} \\sum_{i=1}^{m} (\\hat{y}^{(i)} - y^{(i)})^2\n",
    "\\end{equation}\n",
    "\n",
    "The linear regression problem has the following analytical solution:\n",
    "\n",
    "\\begin{equation}\n",
    "    w = \\frac{\\displaystyle \\sum_{i=1}^{m} (x^{(i)} - \\bar{x})(y^{(i)} - \\bar{y})}{\\displaystyle \\sum_{i=1}^{m} (x^{(i)} - \\bar{x})^2}, \\qquad \\qquad b = \\bar{y} - w \\bar{x}\n",
    "\\end{equation}"
   ]
  },
  {
   "cell_type": "markdown",
   "id": "b9fa1306-1f54-4790-800f-2f8a13bab485",
   "metadata": {},
   "source": [
    "Create a function that:  \n",
    "\n",
    "1) Computes the mean of **x** and **y**.  \n",
    "2) Calculates the slope **weights** (w).  \n",
    "3) Computes the intercept **bias** (b).  \n",
    "4) Trains the model using the training set (compute $\\hat{y}^{(i)}$).\n",
    "5) Compute the Mean Squared Error (MSE) for the training data.  \n",
    "6) Evaluate the model on the test set.\n",
    "7) Compute the Mean Squared Error (MSE) of the test set.\n",
    "8) Optional: Compute the $R^2$ coeficient.\n",
    "\n",
    "The coefficient of determination, denoted as $R^2$, is calculated using the following formulas:\n",
    "\n",
    "Residual Sum of Squares (SSR or $SS_{res}$)\n",
    "\\begin{equation}\n",
    "SS_{res} = \\sum (Y_{\\text{train}} - Y_{\\text{pred\\_train}})^2\n",
    "\\end{equation}\n",
    "\n",
    "Total Sum of Squares (SST or $SS_{tot}$)\n",
    "\\begin{equation}\n",
    "SS_{tot} = \\sum (Y_{\\text{train}} - \\bar{Y})^2\n",
    "\\end{equation}\n",
    "\n",
    "Coefficient of Determination ($R^2$) when using Ordinary Least Squares\n",
    "\\begin{equation}\n",
    "R^2 = 1-\\frac{SS_{res}}{SS_{tot}}\n",
    "\\end{equation}"
   ]
  },
  {
   "cell_type": "code",
   "execution_count": 12,
   "id": "dd872c80-4554-4afc-9350-7f9f2bc19fa0",
   "metadata": {},
   "outputs": [],
   "source": [
    "def linear_regression(X_train, Y_train, X_test, Y_test):\n",
    "    \"\"\"\n",
    "    Perform simple linear regression from scratch.\n",
    "\n",
    "    Parameters:\n",
    "    X_train, Y_train - Training data (independent and dependent variables)\n",
    "    X_test, Y_test - Test data (independent and dependent variables)\n",
    "\n",
    "    Returns:\n",
    "    b - bias of the regression line\n",
    "    w - weigths of the regression line\n",
    "    training_error - Mean Squared Error (MSE) on training data\n",
    "    test_error - Mean Squared Error (MSE) on test data\n",
    "    R2 - R-squared value (how well the model explains the variance)\n",
    "    \"\"\"\n",
    "\n",
    "    m_train = len(Y_train)\n",
    "    m_test = len(Y_test)\n",
    "    \n",
    "    # Step 1: Compute the means of X and Y\n",
    "    X_mean = X_train.mean()\n",
    "    Y_mean = Y_train.mean()\n",
    "\n",
    "    # Step 2: Calculate the weights (w)\n",
    "    numerator = sum((X_train - X_mean) * (Y_train - Y_mean))\n",
    "    denominator = sum((X_train - X_mean) ** 2)\n",
    "    w = numerator / denominator\n",
    "\n",
    "    # Step 3: Calculate the bias (b)\n",
    "    b = Y_mean - (w * X_mean)\n",
    "\n",
    "    # Step 4: Make predictions on the training set\n",
    "    Y_pred_train = b + (w * X_train)\n",
    "\n",
    "    # Step 5: Compute Mean Squared Error (MSE) for training data\n",
    "    training_error = sum((Y_train - Y_pred_train) ** 2) / m_train\n",
    "\n",
    "    # Step 6: Make predictions on the test set\n",
    "    Y_pred_test = b + (w * X_test)\n",
    "\n",
    "    # Step 7: Compute Mean Squared Error (MSE) for test data\n",
    "    test_error = sum((Y_test - Y_pred_test) ** 2) / m_test\n",
    "\n",
    "    # Step 8: Compute R-squared value (coefficient of determination)\n",
    "    residual_sum = sum((Y_train - Y_pred_train) ** 2)\n",
    "    total_sum = sum((Y_train - Y_mean) ** 2)\n",
    "    \n",
    "    R2 = 1 - residual_sum / total_sum\n",
    "\n",
    "    return b, w, training_error, test_error, R2"
   ]
  },
  {
   "cell_type": "code",
   "execution_count": 13,
   "id": "4b711550-592f-4bc8-b98e-58d194dedf45",
   "metadata": {},
   "outputs": [
    {
     "name": "stdout",
     "output_type": "stream",
     "text": [
      "The Linear Regresion equation is: Y = 27767.627741379292 + 9121.127241379312*X\n"
     ]
    }
   ],
   "source": [
    "b,w, training_error, test_error, R2 = linear_regression(X_train,Y_train,X_test,Y_test)\n",
    "\n",
    "print(f\"The Linear Regresion equation is: Y = {b} + {w}*X\")"
   ]
  },
  {
   "cell_type": "markdown",
   "id": "d83901f3-9875-4b4c-bfa5-c3f95832d966",
   "metadata": {},
   "source": [
    "# Model Evaluation\n",
    "\n",
    "Now that the model has been tranined, evaluate its performance:"
   ]
  },
  {
   "cell_type": "markdown",
   "id": "b840a327-9a25-4a69-ab3b-1bf7015b3204",
   "metadata": {},
   "source": [
    "**<u> Accuracy <u>**\n",
    "\n",
    "Use the **MSE (Mean Squared Error)**.\n",
    "\n",
    "- MSE measures how well the model fits the data. A lower MSE indicates better performance.  \n",
    "\n",
    "  - MSE on the **training set** shows how well the model fits **known** data.\n",
    "\n",
    "  - MSE on the **test set** indicates how well the model **generalizes to new data**.\n",
    "\n",
    "\n",
    "**<u> Explainability <u>**\n",
    "\n",
    "Use the R² **(Coefficient of Determination)**.\n",
    "\n",
    "- R² measures how well the independent variable explains the variance in the dependent variable. It ranges from **0 to 1**, where:\n",
    "\n",
    "  - **R² = 1** → The model perfectly explains the variance in the data.\n",
    "  - **R² = 0** → The model explains none of the variance.\n",
    "\n",
    "A higher R² value indicates a better fit, but a very high value may suggest overfitting."
   ]
  },
  {
   "cell_type": "code",
   "execution_count": 14,
   "id": "b184462e-a534-41ae-9ea2-79ff5fd85250",
   "metadata": {},
   "outputs": [
    {
     "name": "stdout",
     "output_type": "stream",
     "text": [
      "========================================\n",
      "======= Model Evaluation Results =======\n",
      "========================================\n",
      "Training MSE : 28410638.3404\n",
      "Test MSE     : 47181762.6393\n",
      "========================================\n",
      "R2           : 0.9593\n",
      "========================================\n"
     ]
    }
   ],
   "source": [
    "print(\"=\" * 40)\n",
    "print(\" Model Evaluation Results \".center(40, \"=\"))\n",
    "print(\"=\" * 40)\n",
    "print(f\"Training MSE : {training_error:.4f}\")\n",
    "print(f\"Test MSE     : {test_error:.4f}\")\n",
    "print(\"=\" * 40)\n",
    "print(f\"R2           : {R2:.4f}\")\n",
    "print(\"=\" * 40)\n"
   ]
  },
  {
   "cell_type": "markdown",
   "id": "2549fa5c-9630-4cc3-a9fb-c1a17f7bd739",
   "metadata": {},
   "source": [
    "The training mean squared error (MSE) is lower than the test MSE, which is expected. The model was trained on the training set, so it fits that data better. The test set contains unseen data, making the error naturally higher.\n"
   ]
  },
  {
   "cell_type": "markdown",
   "id": "fe656187-9c8f-4974-8c97-5003c076f175",
   "metadata": {},
   "source": [
    "95.93% of the variation in Energy Consumption is explained by the number of floors of the houses. This suggests that the linear model fits the data well. However, other factors beyond the number of floors may also influence the Energy Consumption."
   ]
  },
  {
   "cell_type": "markdown",
   "id": "fef38340-463f-4f27-9060-041fa1712f77",
   "metadata": {},
   "source": [
    "Plot the original data and the obtained linear function "
   ]
  },
  {
   "cell_type": "code",
   "execution_count": 15,
   "id": "035bd39f-aefb-43bc-980b-2b47bb7e1b7d",
   "metadata": {},
   "outputs": [
    {
     "data": {
      "image/png": "[encoded data removed]",
      "text/plain": [
       "<Figure size 640x480 with 1 Axes>"
      ]
     },
     "metadata": {},
     "output_type": "display_data"
    }
   ],
   "source": [
    "import matplotlib.pyplot as plt\n",
    "\n",
    "# Scatter plot of original data\n",
    "plt.scatter(data['NumberFloors'], data['EnergyConsuption'], color='blue', label='Original Data')\n",
    "\n",
    "# Generate predictions for the regression line\n",
    "X_range = np.linspace(data['NumberFloors'].min(), data['NumberFloors'].max(), 100)  # Create a range of X values\n",
    "Y_pred = b + (w * X_range)  # Compute predicted energy consumption\n",
    "\n",
    "# Plot the regression line\n",
    "plt.plot(X_range, Y_pred, color='red', linewidth=2, label='Regression Line')\n",
    "\n",
    "# Labels and title\n",
    "plt.xlabel('Number of Floors')\n",
    "plt.ylabel('Energy Consumption (kWh)')\n",
    "plt.title('Energy Consumption vs. Number of Floors')\n",
    "plt.legend()\n",
    "\n",
    "# Show the plot\n",
    "plt.show()"
   ]
  },
  {
   "cell_type": "markdown",
   "id": "f00803a0-b0d6-429a-96e7-86127f365e27",
   "metadata": {},
   "source": [
    "The residuals $\\epsilon = y^{(i)}-y^{(i)}$ must follow a normal distribution."
   ]
  },
  {
   "cell_type": "code",
   "execution_count": 16,
   "id": "09ffd4e7-bc4c-4561-9c8f-ffc645ca51e2",
   "metadata": {},
   "outputs": [
    {
     "data": {
      "image/png": "[encoded data removed]",
      "text/plain": [
       "<Figure size 1200x600 with 1 Axes>"
      ]
     },
     "metadata": {},
     "output_type": "display_data"
    }
   ],
   "source": [
    "Y_pred_test = b + (w * X_test)\n",
    "\n",
    "residuals = Y_test - Y_pred_test\n",
    "\n",
    "plt.subplots(figsize=(12, 6))\n",
    "\n",
    "plt.title('Distribution of Residuals')\n",
    "\n",
    "sns.histplot(residuals)\n",
    "\n",
    "plt.show()"
   ]
  },
  {
   "cell_type": "markdown",
   "id": "d9f316a6-8179-4505-a85d-4ff26d4e96e9",
   "metadata": {},
   "source": [
    "We have to few data to obtain a conclusion."
   ]
  },
  {
   "cell_type": "markdown",
   "id": "145271d8-8d8c-4a7e-94bc-50b4a29033af",
   "metadata": {},
   "source": [
    "The variance of the residuals must remain constant.\n",
    "\n",
    "Linear regression models depend on the assumption of homoscedasticity, meaning the error term (random noise or disturbance in the relationship between independent and dependent variables) maintains a consistent variance across all values of the independent variable.\n",
    "\n",
    "We plot our residuals against the anticipated values to observe the variation of the errors."
   ]
  },
  {
   "cell_type": "code",
   "execution_count": 17,
   "id": "3921aff8-cb1a-4ab5-b656-884123a9f0b7",
   "metadata": {},
   "outputs": [
    {
     "data": {
      "image/png": "[encoded data removed]",
      "text/plain": [
       "<Figure size 640x480 with 1 Axes>"
      ]
     },
     "metadata": {},
     "output_type": "display_data"
    }
   ],
   "source": [
    "plt.scatter(residuals, Y_pred_test)\n",
    "plt.show()"
   ]
  },
  {
   "cell_type": "markdown",
   "id": "909dfc95-a618-46cf-9200-af38f2a09094",
   "metadata": {},
   "source": [
    "# Prediction\n",
    "\n",
    "Use the trained linear model to make predictions manually.  \n",
    "\n",
    "Create a function that applies the model:  \n",
    "- **Input:** `X` (independent variable) → Number of Floors  \n",
    "- **Output:** `Y` (dependent variable) → Predicted Energy Consumption of a House (kWh)  \n",
    "\n",
    "---"
   ]
  },
  {
   "cell_type": "markdown",
   "id": "4d1033f4-f26c-46c0-812a-80f1d91a584c",
   "metadata": {},
   "source": [
    "Define a function that given some number of Floors predicts what the Energy Consuption will be.\n",
    "\n",
    "- Name: energy_consumption_prediction.\n",
    "- Inputs: Number of Floors.\n",
    "- Outputs: Predicted Energy Consumption of Houses (kWh)."
   ]
  },
  {
   "cell_type": "code",
   "execution_count": 18,
   "id": "a4412901-e783-49d3-adb0-818f51772825",
   "metadata": {},
   "outputs": [],
   "source": [
    "def energy_consumption_prediction(X):\n",
    "    \"\"\"\n",
    "    Predicts the Energy Consumption of Houses (kWh) based on the Number of Floors.\n",
    "\n",
    "    Parameters:\n",
    "    X (float, int, or array-like): The number of floors in the house.\n",
    "\n",
    "    Returns:\n",
    "    str: Formatted prediction output.\n",
    "    \"\"\"\n",
    "    y = b + (w * np.array(X))  # Apply the linear regression formula: y = b + w * X\n",
    "    return f\"Predicted Energy Consumption (kWh) for houses with {X} floor(s): {y}.\""
   ]
  },
  {
   "cell_type": "markdown",
   "id": "d79525ab-9252-4565-a3ba-303434d9d786",
   "metadata": {},
   "source": [
    "Make some predictions"
   ]
  },
  {
   "cell_type": "code",
   "execution_count": 19,
   "id": "44c6b5c7-c1ee-4a8b-b6e1-aee30abb4aa8",
   "metadata": {},
   "outputs": [
    {
     "name": "stdout",
     "output_type": "stream",
     "text": [
      "Predicted Energy Consumption (kWh) for houses with 5 floor(s): 73373.26394827585.\n"
     ]
    }
   ],
   "source": [
    "print(energy_consumption_prediction(5))  # Single value\n"
   ]
  },
  {
   "cell_type": "code",
   "execution_count": 20,
   "id": "df35d212-90b9-4a50-b1c9-16251139f307",
   "metadata": {},
   "outputs": [
    {
     "name": "stdout",
     "output_type": "stream",
     "text": [
      "Predicted Energy Consumption (kWh) for houses with [1.2, 12.3, 5, 7.8] floor(s): [ 38712.98043103 139957.49281034  73373.26394828  98912.42022414].\n"
     ]
    }
   ],
   "source": [
    "print(energy_consumption_prediction([1.2, 12.3, 5, 7.8]))  # Array of values"
   ]
  },
  {
   "cell_type": "markdown",
   "id": "644cb03b-8c4b-40a6-9620-a32f30a1e13b",
   "metadata": {},
   "source": [
    "# Loss Functions\n",
    "\n",
    "- Define a one function for each of the the following Loss Functions.\n",
    "- Define a function that calls all the loss functions for the linear regression example."
   ]
  },
  {
   "cell_type": "markdown",
   "id": "2defeb65-d9ad-49a0-a55e-345e2207a2d4",
   "metadata": {},
   "source": [
    "- Mean Squared Error (MSE) of Squared $L^2$ Loss\n",
    "\n",
    "\\begin{equation}\n",
    "    \\mathcal{L} (\\boldsymbol{\\theta}) = \\frac{1}{m} \\sum_{i=1}^{m} \\left(y^{(i)} - \\hat{y}^{(i)}(\\boldsymbol{\\theta}) \\right)^2  \n",
    "\\end{equation}"
   ]
  },
  {
   "cell_type": "code",
   "execution_count": 21,
   "id": "57b3cd4c-ae1d-4d5a-889c-7f564f5497f1",
   "metadata": {},
   "outputs": [],
   "source": [
    "# Mean Squared Error (MSE)\n",
    "def mse_loss(y, y_hat):\n",
    "    return np.mean((y - y_hat) ** 2)"
   ]
  },
  {
   "cell_type": "markdown",
   "id": "089e8e15-b210-4852-bca1-5b1a0af8c675",
   "metadata": {},
   "source": [
    "- Mean Absolute Error (MAE) or $L^1$ Loss\\begin{equation}\n",
    "    \\mathcal{L} (\\boldsymbol{\\theta}) = \\frac{1}{m} \\sum_{i=1}^{m} \\left| y^{(i)} - \\hat{y}^{(i)}(\\boldsymbol{\\theta}) \\right| \n",
    "\\end{equation}"
   ]
  },
  {
   "cell_type": "code",
   "execution_count": 22,
   "id": "ed414171-23d6-4618-8a06-77f26f940148",
   "metadata": {},
   "outputs": [],
   "source": [
    "# Mean Absolute Error (MAE)\n",
    "# write your code here"
   ]
  },
  {
   "cell_type": "markdown",
   "id": "014a095b-711f-4696-80f2-ef33f0c626b7",
   "metadata": {},
   "source": [
    "- Huber Loss or Smooth Mean Absolute Error\n",
    "\n",
    "\\begin{equation}\n",
    "    \\mathcal{L} (\\boldsymbol{\\theta}) = \\frac{1}{m} \\sum_{i=1}^{m} \n",
    "    \\begin{cases} \n",
    "      \\frac{1}{2} \\left( y^{(i)} - \\hat{y}^{(i)}(\\boldsymbol{\\theta}) \\right)^2, & \\text{if } \\left| y^{(i)} - \\hat{y}^{(i)}(\\boldsymbol{\\theta}) \\right| \\leq \\delta \\\\[3mm]\n",
    "      \\delta \\left( \\left| y^{(i)} - \\hat{y}^{(i)}(\\boldsymbol{\\theta}) \\right| - \\frac{\\delta}{2} \\right), & \\text{otherwise}.\n",
    "    \\end{cases}\n",
    "\\end{equation}"
   ]
  },
  {
   "cell_type": "code",
   "execution_count": 23,
   "id": "357cd9e8-0d56-4d6e-a80b-39f668338b96",
   "metadata": {},
   "outputs": [],
   "source": [
    "# Huber Loss\n",
    "# write your code here"
   ]
  },
  {
   "cell_type": "markdown",
   "id": "3607b7b8-c988-445c-a785-e0cc70361f75",
   "metadata": {},
   "source": [
    "- Log-Cosh Loss\n",
    "\\begin{equation}\n",
    "    \\mathcal{L} (\\boldsymbol{\\theta}) = \\frac{1}{m} \\sum_{i=1}^{m} \\log \\left[ \\cosh \\left( y^{(i)} - \\hat{y}^{(i)}(\\boldsymbol{\\theta}) \\right) \\right]\n",
    "\\end{equation}"
   ]
  },
  {
   "cell_type": "code",
   "execution_count": 24,
   "id": "001547ec-7b5a-403d-ae4c-bfc53e4414f1",
   "metadata": {},
   "outputs": [],
   "source": [
    "# Cosh Loss\n",
    "# write your code here"
   ]
  },
  {
   "cell_type": "markdown",
   "id": "ecd5f651-126f-4984-8863-9f34ebb66313",
   "metadata": {},
   "source": [
    "- Binary Cross-Entropy Loss (BCE)\n",
    "\\begin{equation}\n",
    "    \\mathcal{L} (\\boldsymbol{\\theta}) = - \\frac{1}{m} \\sum_{i=1}^{m} \\left[ y^{(i)} \\log \\hat{y}^{(i)}(\\boldsymbol{\\theta}) + \\left( 1 - y^{(i)} \\right) \\log \\left( 1 - \\hat{y}^{(i)}(\\boldsymbol{\\theta}) \\right) \\right]\n",
    "\\end{equation}"
   ]
  },
  {
   "cell_type": "code",
   "execution_count": 25,
   "id": "3207baeb-bc35-4c4b-8f21-9fc815d2e5f2",
   "metadata": {},
   "outputs": [],
   "source": [
    "# Binary Cross-Entropy Loss\n",
    "# write your code here"
   ]
  },
  {
   "cell_type": "markdown",
   "id": "31b46130-b9d0-4a51-952a-96a17e20a42c",
   "metadata": {},
   "source": [
    "- Hinge Loss\n",
    "\\begin{equation}\n",
    "    \\mathcal{L} (\\boldsymbol{\\theta}) = \\frac{1}{m} \\sum_{i=1}^{m} \\max \\left( 0, 1 - y^{(i)} \\hat{y}^{(i)}(\\boldsymbol{\\theta}) \\right)\n",
    "\\end{equation}"
   ]
  },
  {
   "cell_type": "code",
   "execution_count": 26,
   "id": "9ac36d13-c55f-4d96-a7ef-d64fd1729e1f",
   "metadata": {},
   "outputs": [],
   "source": [
    "# Hinge Loss (for SVM or similar)\n",
    "# write your code here"
   ]
  },
  {
   "cell_type": "markdown",
   "id": "03f6924a-c59b-44a5-a9ff-eb6b99430afe",
   "metadata": {},
   "source": [
    "- Kullback-Leibler (KL) Divergence\n",
    "\\begin{equation}\n",
    "    \\mathcal{L} (\\boldsymbol{\\theta}) = \\sum_{i} y^{(i)} \\log \\left( \\frac{y^{(i)}}{\\hat{y}^{(i)}(\\boldsymbol{\\theta})} \\right)\n",
    "\\end{equation}"
   ]
  },
  {
   "cell_type": "code",
   "execution_count": 27,
   "id": "47c2739c-7aba-4791-8aa5-24b70eb58f38",
   "metadata": {},
   "outputs": [],
   "source": [
    "# Kullback-Leibler Divergence Loss\n",
    "# write your code here"
   ]
  },
  {
   "cell_type": "markdown",
   "id": "78e0fd3f-c221-450c-b54d-668f65033bf1",
   "metadata": {},
   "source": [
    "- Define a function that calls all the loss functions and print them"
   ]
  },
  {
   "cell_type": "code",
   "execution_count": 28,
   "id": "2495d234-227e-497b-92de-eae85a5f1a13",
   "metadata": {},
   "outputs": [],
   "source": [
    "# Function to compute and display all losses in a DataFrame\n",
    "def compute_and_display_losses(y, y_hat, delta=1.0):\n",
    "\n",
    "    # write your code here\n",
    "\n",
    "    \n",
    "\n",
    "\n"
   ]
  },
  {
   "cell_type": "markdown",
   "id": "83b627eb-322d-4a1f-99b2-9f8874c84326",
   "metadata": {},
   "source": [
    "- Example"
   ]
  },
  {
   "cell_type": "code",
   "execution_count": 31,
   "id": "52cfeef7-5e76-4dce-9b4c-92e91e67187e",
   "metadata": {},
   "outputs": [
    {
     "name": "stdout",
     "output_type": "stream",
     "text": [
      "               Loss Function     Value\n",
      "0                        MSE  0.025000\n",
      "1                        MAE  0.150000\n",
      "2                 Huber Loss  0.012500\n",
      "3                  Cosh Loss  0.012430\n",
      "4  Binary Cross-Entropy Loss  0.164252\n",
      "5                 Hinge Loss  0.575000\n",
      "6         KL Divergence Loss  0.328504\n"
     ]
    }
   ],
   "source": [
    "# Example input data\n",
    "y = np.array([0, 1, 0, 1])  # True values\n",
    "y_hat = np.array([0.1, 0.9, 0.2, 0.8])  # Predicted values\n",
    "\n",
    "# Call the function to compute losses and display them\n",
    "loss_df = compute_and_display_losses(y, y_hat)\n",
    "\n",
    "# Print the table\n",
    "print(loss_df)"
   ]
  },
  {
   "cell_type": "markdown",
   "id": "ac667a4e-cb12-45d8-9c34-c84da261919a",
   "metadata": {},
   "source": [
    "- Compute the losses for the test data in our example"
   ]
  },
  {
   "cell_type": "code",
   "execution_count": 30,
   "id": "efc4bac4-b492-4bf7-8a1f-45b8951a5811",
   "metadata": {},
   "outputs": [
    {
     "name": "stdout",
     "output_type": "stream",
     "text": [
      "               Loss Function         Value\n",
      "0                        MSE  4.718176e+07\n",
      "1                        MAE  5.741683e+03\n",
      "2                 Huber Loss  5.741183e+03\n",
      "3                  Cosh Loss           inf\n",
      "4  Binary Cross-Entropy Loss -2.631352e+06\n",
      "5                 Hinge Loss  0.000000e+00\n",
      "6         KL Divergence Loss  5.170693e+06\n"
     ]
    },
    {
     "name": "stderr",
     "output_type": "stream",
     "text": [
      "/tmp/ipykernel_3835144/3111857014.py:3: RuntimeWarning: overflow encountered in cosh\n",
      "  return np.mean(np.log(np.cosh(y - y_hat)))\n"
     ]
    }
   ],
   "source": [
    "# write your code here"
   ]
  }
 ],
 "metadata": {
  "kernelspec": {
   "display_name": "Python 3 (ipykernel)",
   "language": "python",
   "name": "python3"
  },
  "language_info": {
   "codemirror_mode": {
    "name": "ipython",
    "version": 3
   },
   "file_extension": ".py",
   "mimetype": "text/x-python",
   "name": "python",
   "nbconvert_exporter": "python",
   "pygments_lexer": "ipython3",
   "version": "3.12.6"
  }
 },
 "nbformat": 4,
 "nbformat_minor": 5
}
